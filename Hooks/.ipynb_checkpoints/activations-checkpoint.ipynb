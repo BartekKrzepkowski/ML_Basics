{
 "cells": [
  {
   "cell_type": "code",
   "execution_count": 1,
   "id": "stunning-cylinder",
   "metadata": {},
   "outputs": [],
   "source": [
    "%load_ext autoreload\n",
    "%autoreload 2\n",
    "%load_ext tensorboard"
   ]
  },
  {
   "cell_type": "code",
   "execution_count": 2,
   "id": "greek-range",
   "metadata": {},
   "outputs": [
    {
     "data": {
      "text/plain": [
       "<torch._C.Generator at 0x7fc4e81fd4d0>"
      ]
     },
     "execution_count": 2,
     "metadata": {},
     "output_type": "execute_result"
    }
   ],
   "source": [
    "import torch\n",
    "from torch import nn\n",
    "from torch.nn import functional as F\n",
    "\n",
    "from torch.utils.tensorboard import SummaryWriter\n",
    "\n",
    "import pathlib\n",
    "\n",
    "torch.manual_seed(42)"
   ]
  },
  {
   "cell_type": "code",
   "execution_count": 3,
   "id": "front-editor",
   "metadata": {},
   "outputs": [],
   "source": [
    "class Net(nn.Module):\n",
    "    def __init__(self):\n",
    "        super().__init__()\n",
    "        self.fc1 = nn.Linear(100, 200)\n",
    "        self.fc2 = nn.Linear(200, 50)\n",
    "        self.fc3 = nn.Linear(50, 5)\n",
    "        \n",
    "    def forward(self, x):\n",
    "        x = F.relu(self.fc1(x))\n",
    "        x = F.relu(self.fc2(x))\n",
    "        x = self.fc3(x)\n",
    "        return x"
   ]
  },
  {
   "cell_type": "code",
   "execution_count": 4,
   "id": "graphic-given",
   "metadata": {
    "tags": []
   },
   "outputs": [
    {
     "data": {
      "text/html": [
       "\n",
       "      <iframe id=\"tensorboard-frame-a41750c0ec349234\" width=\"100%\" height=\"800\" frameborder=\"0\">\n",
       "      </iframe>\n",
       "      <script>\n",
       "        (function() {\n",
       "          const frame = document.getElementById(\"tensorboard-frame-a41750c0ec349234\");\n",
       "          const url = new URL(\"/\", window.location);\n",
       "          const port = 6006;\n",
       "          if (port) {\n",
       "            url.port = port;\n",
       "          }\n",
       "          frame.src = url;\n",
       "        })();\n",
       "      </script>\n",
       "    "
      ],
      "text/plain": [
       "<IPython.core.display.HTML object>"
      ]
     },
     "metadata": {},
     "output_type": "display_data"
    }
   ],
   "source": [
    "tensorboard --logdir=tensorboard"
   ]
  },
  {
   "cell_type": "code",
   "execution_count": 5,
   "id": "equipped-cooper",
   "metadata": {},
   "outputs": [],
   "source": [
    "path = pathlib.Path.cwd() / 'tensorboard'\n",
    "writer = SummaryWriter(path)\n",
    "\n",
    "x = torch.randn(10, 100)\n",
    "net = Net()"
   ]
  },
  {
   "cell_type": "code",
   "execution_count": 6,
   "id": "persistent-discrimination",
   "metadata": {},
   "outputs": [],
   "source": [
    "class Hooks:\n",
    "    def __init__(self, model):\n",
    "        self.model = model\n",
    "        \n",
    "    def forward_hooks(self):\n",
    "        for module in net.modules():\n",
    "            if isinstance(module, torch.nn.Conv2d) or isinstance(module, torch.nn.Linear):\n",
    "                module.register_forward_hook(self.activation_hook)\n",
    "                \n",
    "    def activation_hook(self, module, inp, out):\n",
    "        writer.add_histogram(f'Pre-Activations/{repr(module)}', out)\n",
    "        \n",
    "    def gradient_hooks(self):\n",
    "        for module in net.modules():\n",
    "            if isinstance(module, torch.nn.Conv2d) or isinstance(module, torch.nn.Linear):\n",
    "                print(repr(module))\n",
    "                module.weight.register_hook(self.grad_hook_wrapper(module))\n",
    "    \n",
    "    def grad_hook_wrapper(self, module):\n",
    "        def grad_hook(grad):\n",
    "            writer.add_histogram(f'Gradients/{repr(module)}', grad)\n",
    "        return grad_hook"
   ]
  },
  {
   "cell_type": "code",
   "execution_count": 7,
   "id": "noble-bread",
   "metadata": {},
   "outputs": [
    {
     "name": "stdout",
     "output_type": "stream",
     "text": [
      "Linear(in_features=100, out_features=200, bias=True)\n",
      "Linear(in_features=200, out_features=50, bias=True)\n",
      "Linear(in_features=50, out_features=5, bias=True)\n"
     ]
    }
   ],
   "source": [
    "hooks = Hooks(net)\n",
    "hooks.forward_hooks()\n",
    "hooks.gradient_hooks()"
   ]
  },
  {
   "cell_type": "code",
   "execution_count": 8,
   "id": "entertaining-looking",
   "metadata": {},
   "outputs": [],
   "source": [
    "y = net(x)\n",
    "y.sum().backward()"
   ]
  },
  {
   "cell_type": "code",
   "execution_count": null,
   "id": "unknown-academy",
   "metadata": {},
   "outputs": [],
   "source": [
    "net.fc1.weight.register_hook"
   ]
  },
  {
   "cell_type": "code",
   "execution_count": 10,
   "id": "worldwide-robert",
   "metadata": {},
   "outputs": [
    {
     "data": {
      "text/plain": [
       "<bound method Module.eval of Net(\n",
       "  (fc1): Linear(in_features=100, out_features=200, bias=True)\n",
       "  (fc2): Linear(in_features=200, out_features=50, bias=True)\n",
       "  (fc3): Linear(in_features=50, out_features=5, bias=True)\n",
       ")>"
      ]
     },
     "execution_count": 10,
     "metadata": {},
     "output_type": "execute_result"
    }
   ],
   "source": [
    "net."
   ]
  },
  {
   "cell_type": "code",
   "execution_count": null,
   "id": "covered-dining",
   "metadata": {},
   "outputs": [],
   "source": []
  }
 ],
 "metadata": {
  "kernelspec": {
   "display_name": "tldl",
   "language": "python",
   "name": "tldl"
  },
  "language_info": {
   "codemirror_mode": {
    "name": "ipython",
    "version": 3
   },
   "file_extension": ".py",
   "mimetype": "text/x-python",
   "name": "python",
   "nbconvert_exporter": "python",
   "pygments_lexer": "ipython3",
   "version": "3.8.10"
  }
 },
 "nbformat": 4,
 "nbformat_minor": 5
}
